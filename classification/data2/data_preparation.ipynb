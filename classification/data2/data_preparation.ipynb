{
 "cells": [
  {
   "cell_type": "markdown",
   "id": "f1e1fb05",
   "metadata": {},
   "source": [
    "### Data Preparation\n"
   ]
  },
  {
   "cell_type": "code",
   "execution_count": 1,
   "id": "5ec3cc54",
   "metadata": {},
   "outputs": [],
   "source": [
    "import numpy as np\n",
    "import os\n",
    "from tqdm import tqdm\n",
    "import cv2"
   ]
  },
  {
   "cell_type": "markdown",
   "id": "a7c4b52b",
   "metadata": {},
   "source": [
    "### Data paths\n",
    "Here we define the paths of the classes folder after unzipping the dataset"
   ]
  },
  {
   "cell_type": "code",
   "execution_count": 2,
   "id": "834c54b5",
   "metadata": {},
   "outputs": [
    {
     "name": "stdout",
     "output_type": "stream",
     "text": [
      "['AbdomenCT', 'BreastMRI', 'ChestCT', 'CXR', 'Hand', 'HeadCT']\n"
     ]
    },
    {
     "data": {
      "text/plain": [
       "'med-mnist/AbdomenCT'"
      ]
     },
     "execution_count": 2,
     "metadata": {},
     "output_type": "execute_result"
    }
   ],
   "source": [
    "data_dir = \"med-mnist\"         \n",
    "abdomen_DIR= data_dir + '/AbdomenCT'\n",
    "breastmri_DIR= data_dir + '/BreastMRI'\n",
    "chestct_DIR= data_dir + '/ChestCT'\n",
    "cxr_DIR= data_dir + '/CXR'\n",
    "hand_DIR= data_dir + '/Hand'\n",
    "headct = data_dir + '/HeadCT'\n",
    "\n",
    "print(os.listdir(\"med-mnist\"))\n",
    "abdomen_DIR"
   ]
  },
  {
   "cell_type": "markdown",
   "id": "fe65ec1c",
   "metadata": {},
   "source": [
    "### Global variables and classes definition"
   ]
  },
  {
   "cell_type": "code",
   "execution_count": 3,
   "id": "317b417a",
   "metadata": {},
   "outputs": [],
   "source": [
    "classes = {'AbdomenCT': 0, 'BreastMRI': 1, 'ChestCT': 2, 'CXR': 3, 'Hand': 4, 'HeadCT': 5}\n",
    "BATCH_SIZE=64\n",
    "N_CLASSES = 6\n",
    "EPOCHS = 5"
   ]
  },
  {
   "cell_type": "markdown",
   "id": "8b5e1c5f",
   "metadata": {},
   "source": [
    "### Append of the data\n",
    "\n",
    "Here we append the data from all classes by using the function: \"make_train_data\". <br>\n",
    "The labels are collected for each class using the function \"assign_label\""
   ]
  },
  {
   "cell_type": "code",
   "execution_count": 4,
   "id": "72b7d4b7",
   "metadata": {},
   "outputs": [],
   "source": [
    "def assign_label(img,class_type):\n",
    "    return class_type\n",
    "\n",
    "X = []\n",
    "y = []\n",
    "\n",
    "def make_train_data(class_type,DIR):\n",
    "    for img in tqdm(os.listdir(DIR)):\n",
    "        label=assign_label(img,class_type)\n",
    "        path = os.path.join(DIR,img)\n",
    "        img = cv2.imread(path,cv2.IMREAD_COLOR)        \n",
    "        X.append(np.array(img))\n",
    "        y.append(str(label))"
   ]
  },
  {
   "cell_type": "code",
   "execution_count": 5,
   "id": "2eb5ee76",
   "metadata": {},
   "outputs": [
    {
     "name": "stderr",
     "output_type": "stream",
     "text": [
      "100%|██████████| 833/833 [00:00<00:00, 4928.93it/s]\n",
      "100%|██████████| 837/837 [00:00<00:00, 5134.04it/s]\n",
      "100%|██████████| 829/829 [00:00<00:00, 4963.14it/s]\n",
      "100%|██████████| 834/834 [00:00<00:00, 4905.02it/s]\n",
      "100%|██████████| 830/830 [00:00<00:00, 4910.20it/s]\n",
      "100%|██████████| 837/837 [00:00<00:00, 3080.44it/s]\n"
     ]
    }
   ],
   "source": [
    "make_train_data(classes.get('AbdomenCT'), abdomen_DIR)\n",
    "make_train_data(classes.get('BreastMRI'), breastmri_DIR)\n",
    "make_train_data(classes.get('ChestCT'), chestct_DIR)\n",
    "make_train_data(classes.get('CXR'), cxr_DIR)\n",
    "make_train_data(classes.get('Hand'), hand_DIR)\n",
    "make_train_data(classes.get('HeadCT'), headct)"
   ]
  },
  {
   "cell_type": "code",
   "execution_count": 7,
   "id": "efa04bac",
   "metadata": {},
   "outputs": [
    {
     "data": {
      "text/plain": [
       "(5000, 64, 64, 3)"
      ]
     },
     "execution_count": 7,
     "metadata": {},
     "output_type": "execute_result"
    }
   ],
   "source": [
    "y = np.array(y)\n",
    "X = np.array(X)\n",
    "X.shape"
   ]
  }
 ],
 "metadata": {
  "kernelspec": {
   "display_name": "Python 3",
   "language": "python",
   "name": "python3"
  },
  "language_info": {
   "codemirror_mode": {
    "name": "ipython",
    "version": 3
   },
   "file_extension": ".py",
   "mimetype": "text/x-python",
   "name": "python",
   "nbconvert_exporter": "python",
   "pygments_lexer": "ipython3",
   "version": "3.8.8"
  }
 },
 "nbformat": 4,
 "nbformat_minor": 5
}
